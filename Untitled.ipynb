{
  "nbformat": 4,
  "nbformat_minor": 0,
  "metadata": {
    "colab": {
      "name": "Untitled",
      "provenance": [],
      "collapsed_sections": []
    },
    "kernelspec": {
      "name": "python3",
      "display_name": "Python 3"
    },
    "language_info": {
      "name": "python"
    }
  },
  "cells": [
    {
      "cell_type": "markdown",
      "metadata": {
        "id": "PU6jmNG24ZcV"
      },
      "source": [
        ""
      ]
    },
    {
      "cell_type": "markdown",
      "metadata": {
        "id": "kK8rYlwS4aKM"
      },
      "source": [
        "##ACTIVIDAD"
      ]
    },
    {
      "cell_type": "code",
      "metadata": {
        "id": "D1-hK0Lu3_4b"
      },
      "source": [
        "%%writefile p1.cpp\n",
        "#include<iostream>\n",
        "\n",
        "using namespace std;\n",
        "\n",
        "int main()\n",
        "{\n",
        "   cout<<\"PROBANDO AAAAAA\"; \n",
        "\n",
        "   return 0;\n",
        "}\n",
        "\n"
      ],
      "execution_count": null,
      "outputs": []
    },
    {
      "cell_type": "code",
      "metadata": {
        "colab": {
          "base_uri": "https://localhost:8080/"
        },
        "id": "YkEfvOPZ4RQF",
        "outputId": "c4fbc8c7-8e1c-4d0b-c29b-e465d4c9787b"
      },
      "source": [
        "!g++ p1.cpp -o s && ./s"
      ],
      "execution_count": null,
      "outputs": [
        {
          "output_type": "stream",
          "name": "stdout",
          "text": [
            "PROBAR"
          ]
        }
      ]
    },
    {
      "cell_type": "code",
      "metadata": {
        "id": "-4gbTX6_4WAH"
      },
      "source": [
        ""
      ],
      "execution_count": null,
      "outputs": []
    }
  ]
}